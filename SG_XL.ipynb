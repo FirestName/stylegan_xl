{
  "nbformat": 4,
  "nbformat_minor": 0,
  "metadata": {
    "colab": {
      "private_outputs": true,
      "provenance": [],
      "collapsed_sections": [],
      "machine_shape": "hm",
      "toc_visible": true,
      "include_colab_link": true
    },
    "kernelspec": {
      "name": "python3",
      "display_name": "Python 3"
    },
    "language_info": {
      "name": "python"
    },
    "accelerator": "GPU"
  },
  "cells": [
    {
      "cell_type": "markdown",
      "metadata": {
        "id": "view-in-github",
        "colab_type": "text"
      },
      "source": [
        "<a href=\"https://colab.research.google.com/github/dvschultz/stylegan_xl/blob/main/SG_XL.ipynb\" target=\"_parent\"><img src=\"https://colab.research.google.com/assets/colab-badge.svg\" alt=\"Open In Colab\"/></a>"
      ]
    },
    {
      "cell_type": "markdown",
      "source": [
        "# StyleGAN-XL"
      ],
      "metadata": {
        "id": "6MNSzudqWxs9"
      }
    },
    {
      "cell_type": "code",
      "execution_count": null,
      "metadata": {
        "id": "d4oSAv5wQfhI"
      },
      "outputs": [],
      "source": [
        "!nvidia-smi -L"
      ]
    },
    {
      "cell_type": "code",
      "source": [
        "from google.colab import drive\n",
        "drive.mount('/content/drive')"
      ],
      "metadata": {
        "id": "KXwq5RdgQvrp"
      },
      "execution_count": null,
      "outputs": []
    },
    {
      "cell_type": "code",
      "source": [
        "#Uninstall new JAX\n",
        "!pip uninstall jax jaxlib -y\n",
        "#GPU frontend\n",
        "!pip install \"jax[cuda11_cudnn805]==0.3.10\" -f https://storage.googleapis.com/jax-releases/jax_cuda_releases.html\n",
        "#CPU frontend\n",
        "#!pip install jax[cpu]==0.3.10\n",
        "#Downgrade Pytorch\n",
        "!pip uninstall torch torchvision -y\n",
        "!pip install torch==1.9.0+cu111 torchvision==0.10.0+cu111 -f https://download.pytorch.org/whl/torch_stable.html\n",
        "!pip install timm==0.4.12 ftfy==6.1.1 ninja==1.10.2 imageio-ffmpeg"
      ],
      "metadata": {
        "id": "EfA05o6d-Ggx"
      },
      "execution_count": null,
      "outputs": []
    },
    {
      "cell_type": "code",
      "source": [
        "import os\n",
        "!git clone https://github.com/dvschultz/stylegan_xl\n",
        "\n",
        "if(os.path.isdir('/content/drive/MyDrive/stylegan_xl')):\n",
        "    %cd /content/drive/MyDrive/stylegan_xl\n",
        "else:\n",
        "    %cd /content/drive/MyDrive\n",
        "    !git clone https://github.com/dvschultz/stylegan_xl\n",
        "    %cd stylegan_xl/\n"
      ],
      "metadata": {
        "id": "cw7az1RxRCb8"
      },
      "execution_count": null,
      "outputs": []
    },
    {
      "cell_type": "markdown",
      "source": [
        "## Generate dataset at every scale\n",
        "\n",
        "Set the `source` to the path to your unzipped images.\n",
        "Set `sizes` to the scales needed (you should always keep `16`, `32`, `64`, `128`, and `256`.)"
      ],
      "metadata": {
        "id": "R1Yb1M6t31Uj"
      }
    },
    {
      "cell_type": "code",
      "source": [
        "%cd /content\n",
        "!unzip /content/drive/MyDrive/datasets/ladiescrop-1024.zip\n",
        "%cd /content/stylegan_xl"
      ],
      "metadata": {
        "id": "5AEzAtqRYTHo"
      },
      "execution_count": null,
      "outputs": []
    },
    {
      "cell_type": "code",
      "source": [
        "!python dataset_tool.py --help"
      ],
      "metadata": {
        "id": "uv_0qIfrSG3f"
      },
      "execution_count": null,
      "outputs": []
    },
    {
      "cell_type": "code",
      "source": [
        "source = \"/content/drive/MyDrive/weinrich.zip\"\n",
        "sizes = [16,32,64,128,256,512,1024]\n",
        "\n",
        "for size in sizes:\n",
        "    !python dataset_tool.py --source={source} --dest=/content/drive/MyDrive/stylegan_xl/data/weinrich-{size}.zip \\\n",
        "        --resolution={size}x{size} --transform=center-crop"
      ],
      "metadata": {
        "id": "bdYrzVOeSYed"
      },
      "execution_count": null,
      "outputs": []
    },
    {
      "cell_type": "markdown",
      "source": [
        "## Train 16x16 model\n",
        "\n",
        "*   For V100, use `batch-gpu=8`\n",
        "*   A100s can likely use `batch-gpu=16`\n",
        "\n",
        "\n"
      ],
      "metadata": {
        "id": "6pAIqfRp5WlG"
      }
    },
    {
      "cell_type": "code",
      "source": [
        "!python train.py --help"
      ],
      "metadata": {
        "id": "5TTcKjOa6LK7"
      },
      "execution_count": null,
      "outputs": []
    },
    {
      "cell_type": "code",
      "source": [
        "!python /content/stylegan_xl/train.py \\\n",
        "--outdir=/content/drive/MyDrive/stylegan_xl/training-runs/weinrich \\\n",
        "--cfg=stylegan3-t \\\n",
        "--data=/content/drive/MyDrive/stylegan_xl/data/weinrich-16.zip \\\n",
        "--gpus=1 \\\n",
        "--batch=128 \\\n",
        "--mirror=1 \\\n",
        "--snap=8 \\\n",
        "--batch-gpu=8 \\\n",
        "--kimg=5000 \\\n",
        "--syn_layers=10"
      ],
      "metadata": {
        "id": "tEpzECVM4vV8"
      },
      "execution_count": null,
      "outputs": []
    },
    {
      "cell_type": "markdown",
      "source": [
        "## Train upscaling models\n",
        "\n",
        "*   `32` resolution: `--batch-gpu 8` on V100, `--batch-gpu 16` on A100\n",
        "*   `64` resolution: `--batch-gpu 8` on V100, `--batch-gpu 16` on A100\n",
        "*   `128` resolution: `--batch-gpu 8` on V100, `--batch-gpu 16` on A100\n",
        "*   `1024` resolution: `--batch-gpu 1` on V100, `--batch-gpu 4` on A100\n",
        "\n",
        "\n",
        "\n"
      ],
      "metadata": {
        "id": "jtsLDzCl5U2j"
      }
    },
    {
      "cell_type": "code",
      "source": [
        "!python /content/stylegan_xl/train.py \\\n",
        "--outdir=/content/drive/MyDrive/stylegan_xl/training-runs/itp-canyons-1024 \\\n",
        "--cfg=stylegan3-t \\\n",
        "--data=/content/drive/MyDrive/stylegan_xl/data/itp-canyons-1024.zip \\\n",
        "--gpus=1 \\\n",
        "--batch=64 \\\n",
        "--mirror=1 \\\n",
        "--snap 8 \\\n",
        "--batch-gpu 1 \\\n",
        "--kimg 3000 \\\n",
        "--syn_layers 10 \\\n",
        "--superres \\\n",
        "--up_factor 2 \\\n",
        "--head_layers 7 \\\n",
        "--freezed 4 \\\n",
        "--path_stem /content/drive/MyDrive/stylegan_xl/training-runs/itp-canyons-512/00000-stylegan3-t-itp-canyons-512-gpus1-batch64/best_model.pkl"
      ],
      "metadata": {
        "id": "OfaHzxIIRx8W"
      },
      "execution_count": null,
      "outputs": []
    },
    {
      "cell_type": "markdown",
      "source": [
        "\n",
        "# Image Generation"
      ],
      "metadata": {
        "id": "i8FBZArSAK4R"
      }
    },
    {
      "cell_type": "code",
      "source": [
        "!python gen_images.py --outdir=/content/out --trunc=0.7 --seeds=0-100 --batch-sz 1 \\\n",
        "  --network=/content/drive/MyDrive/stylegan_xl/training-runs/ladiescrop-512/00000-stylegan3-t-ladiescrop-512-gpus1-batch128/best_model.pkl"
      ],
      "metadata": {
        "id": "bA_gGOxwgGwF"
      },
      "execution_count": null,
      "outputs": []
    },
    {
      "cell_type": "code",
      "source": [
        "!zip -r ladiescrop-xl-512_100.zip /content/out"
      ],
      "metadata": {
        "id": "gb0lorkqqwOU"
      },
      "execution_count": null,
      "outputs": []
    },
    {
      "cell_type": "markdown",
      "source": [
        "# Video Generation"
      ],
      "metadata": {
        "id": "ENPdewWSh5Cl"
      }
    },
    {
      "cell_type": "code",
      "source": [
        "!python /content/stylegan_xl/gen_images.py --outdir=/content/out --trunc=0.8 --seeds=0-250 --batch-sz 1 \\\n",
        "  --network=/content/drive/MyDrive/stylegan_xl/training-runs/ladiescrop-1024/00000-stylegan3-t-ladiescrop-1024-gpus1-batch128/best_model.pkl"
      ],
      "metadata": {
        "id": "1xgalfqZXIjU"
      },
      "execution_count": null,
      "outputs": []
    },
    {
      "cell_type": "code",
      "source": [
        "!zip -r /content/ladiescrop-1024_250samples.zip /content/out\n"
      ],
      "metadata": {
        "id": "oshF3xEfYM_C"
      },
      "execution_count": null,
      "outputs": []
    },
    {
      "cell_type": "code",
      "source": [
        "%cd \"/content/stylegan_xl\"\n",
        "!git config --global user.name \"test\"\n",
        "!git config --global user.email \"test@test.com\"\n",
        "!git fetch origin\n",
        "!git pull\n",
        "!git stash\n",
        "!git checkout origin/main -- gen_video.py"
      ],
      "metadata": {
        "id": "KStxCRIj5tFB"
      },
      "execution_count": null,
      "outputs": []
    },
    {
      "cell_type": "code",
      "source": [
        "!pip install imageio-ffmpeg"
      ],
      "metadata": {
        "id": "3OZ8C60h8Y5R"
      },
      "execution_count": null,
      "outputs": []
    },
    {
      "cell_type": "code",
      "source": [
        "!python /content/stylegan_xl/gen_video.py \\\n",
        "--output=/content/lerp-stabilize-ladiescrop1024.mp4 \\\n",
        "--trunc=0.8 \\\n",
        "--seeds=250,243,229,206,199,198,191,190,250 \\\n",
        "--grid=1x1 \\\n",
        "--w-frames=60 \\\n",
        "--stabilize-video \\\n",
        "--network=/content/drive/MyDrive/stylegan_xl/training-runs/ladiescrop-1024/00000-stylegan3-t-ladiescrop-1024-gpus1-batch128/best_model.pkl"
      ],
      "metadata": {
        "id": "6yAPQL9ipcS3"
      },
      "execution_count": null,
      "outputs": []
    },
    {
      "cell_type": "code",
      "source": [
        "!python gen_video.py --help"
      ],
      "metadata": {
        "id": "1z9cOo5wjjKN"
      },
      "execution_count": null,
      "outputs": []
    },
    {
      "cell_type": "code",
      "source": [
        "%cd /content/stylegan_xl"
      ],
      "metadata": {
        "id": "O3bC1d4Brf-e"
      },
      "execution_count": null,
      "outputs": []
    },
    {
      "cell_type": "code",
      "source": [],
      "metadata": {
        "id": "aTpYpYwd5OSO"
      },
      "execution_count": null,
      "outputs": []
    }
  ]
}